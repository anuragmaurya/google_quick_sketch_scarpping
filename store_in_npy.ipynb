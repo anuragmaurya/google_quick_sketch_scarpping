{
 "cells": [
  {
   "cell_type": "code",
   "execution_count": 324,
   "metadata": {
    "collapsed": true
   },
   "outputs": [],
   "source": [
    "import pandas as pd\n",
    "import numpy as np\n",
    "import os\n",
    "import sys\n",
    "import matplotlib.pyplot as plt\n",
    "from scipy.misc import imread, imshow, imsave\n",
    "\n",
    "\n",
    "main_dr = './google_sketch/screenshots/'\n",
    "list_drs = os.listdir(main_dr)\n",
    "#dires.index('cat.txt')\n",
    "\n",
    "list_drs = [main_dr+x for x in list_drs ]\n",
    "#list_drs[-1]\n",
    "\n",
    "\n",
    "def splitter(image):\n",
    "    \"\"\"\n",
    "    This function splits the the image /screenshot in equal parts.\n",
    "    \n",
    "    \"\"\"\n",
    "    cols=np.split(image[:,:1024,:],16,axis =1)\n",
    "    return [im for col in cols for im in np.split(col[:570,:,:],10,axis= 0)[5:]]\n",
    "\n",
    "    \n",
    "\n",
    "\n",
    "def splitted_screen_shots(directory):\n",
    "    if os.path.isdir('./google_sketch/'+'splitted_screen_shots/'):\n",
    "        pass\n",
    "    else:\n",
    "        os.mkdir('./google_sketch/'+'splitted_screen_shots/')\n",
    "    final_dir = './google_sketch/'+'splitted_screen_shots/' + directory.split('/')[-1]\n",
    "    \n",
    "\n",
    "    images = [directory+'/'+file for file in  os.listdir(directory)]\n",
    "    images = [imread(image) for image in images]\n",
    "    \n",
    "    splitted_images = [ splitted_image  for image in images for splitted_image in splitter(image)]\n",
    "    np.save(final_dir,splitted_images)\n",
    "    #return splitted_images\n",
    "\n",
    "\n",
    "    \n",
    "    \n",
    "\n",
    "for l in list_drs:\n",
    "    \n",
    "    \n",
    "    file_name = './google_sketch/'+'splitted_screen_shots/' + l.split('/')[-1]+'.npy'    \n",
    "    if os.path.isfile(file_name):\n",
    "        pass\n",
    "    else:\n",
    "        \n",
    "        splitted_screen_shots(l)\n",
    "    print(file_name)\n",
    "    print(l.split('/')[-1]+' has been complete')\n",
    "\n",
    "    \n",
    "%%time\n",
    "\n",
    "for l in list_drs:\n",
    "    \n",
    "    \n",
    "    file_name = './google_sketch/'+'splitted_screen_shots/' + l.split('/')[-1]+'.npy'    \n",
    "    if os.path.isfile(file_name):\n",
    "        pass\n",
    "    else:\n",
    "        \n",
    "        splitted_screen_shots(l)\n",
    "    print(file_name)\n",
    "    print(l.split('/')[-1]+' has been complete')\n",
    "    break"
   ]
  },
  {
   "cell_type": "code",
   "execution_count": null,
   "metadata": {
    "collapsed": true
   },
   "outputs": [],
   "source": []
  },
  {
   "cell_type": "code",
   "execution_count": null,
   "metadata": {
    "collapsed": true
   },
   "outputs": [],
   "source": []
  }
 ],
 "metadata": {
  "kernelspec": {
   "display_name": "Python 3",
   "language": "python",
   "name": "python3"
  },
  "language_info": {
   "codemirror_mode": {
    "name": "ipython",
    "version": 3
   },
   "file_extension": ".py",
   "mimetype": "text/x-python",
   "name": "python",
   "nbconvert_exporter": "python",
   "pygments_lexer": "ipython3",
   "version": "3.6.2"
  }
 },
 "nbformat": 4,
 "nbformat_minor": 2
}
